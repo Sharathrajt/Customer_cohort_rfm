{
 "cells": [
  {
   "cell_type": "code",
   "execution_count": 1,
   "id": "c6e361ac",
   "metadata": {},
   "outputs": [],
   "source": [
    "import pandas as pd\n",
    "import numpy as np\n",
    "import datetime as dt\n",
    "import matplotlib.pyplot as plt\n",
    "import seaborn as sns"
   ]
  },
  {
   "cell_type": "markdown",
   "id": "af66d516",
   "metadata": {},
   "source": [
    "### Business Problem¶\n",
    "An e-commerce company aims to separate its customers into different segments and implement a marketing strategy according to those segments.\n",
    "\n",
    "In order to achieve this goal, purchasing actions of different customers will be clarified and customers will be grouped according to those actions"
   ]
  },
  {
   "cell_type": "markdown",
   "id": "a60c7bb8",
   "metadata": {},
   "source": [
    "## Data import and cleaning"
   ]
  },
  {
   "cell_type": "code",
   "execution_count": 2,
   "id": "87e3f985",
   "metadata": {},
   "outputs": [],
   "source": [
    "df = pd.read_csv('data.csv', encoding='latin1')"
   ]
  },
  {
   "cell_type": "code",
   "execution_count": 3,
   "id": "c31da154",
   "metadata": {},
   "outputs": [
    {
     "data": {
      "text/plain": [
       "(541909, 8)"
      ]
     },
     "execution_count": 3,
     "metadata": {},
     "output_type": "execute_result"
    }
   ],
   "source": [
    "df.shape"
   ]
  },
  {
   "cell_type": "code",
   "execution_count": 4,
   "id": "37d013e8",
   "metadata": {},
   "outputs": [
    {
     "data": {
      "text/html": [
       "<div>\n",
       "<style scoped>\n",
       "    .dataframe tbody tr th:only-of-type {\n",
       "        vertical-align: middle;\n",
       "    }\n",
       "\n",
       "    .dataframe tbody tr th {\n",
       "        vertical-align: top;\n",
       "    }\n",
       "\n",
       "    .dataframe thead th {\n",
       "        text-align: right;\n",
       "    }\n",
       "</style>\n",
       "<table border=\"1\" class=\"dataframe\">\n",
       "  <thead>\n",
       "    <tr style=\"text-align: right;\">\n",
       "      <th></th>\n",
       "      <th>InvoiceNo</th>\n",
       "      <th>StockCode</th>\n",
       "      <th>Description</th>\n",
       "      <th>Quantity</th>\n",
       "      <th>InvoiceDate</th>\n",
       "      <th>UnitPrice</th>\n",
       "      <th>CustomerID</th>\n",
       "      <th>Country</th>\n",
       "    </tr>\n",
       "  </thead>\n",
       "  <tbody>\n",
       "    <tr>\n",
       "      <th>0</th>\n",
       "      <td>536365</td>\n",
       "      <td>85123A</td>\n",
       "      <td>WHITE HANGING HEART T-LIGHT HOLDER</td>\n",
       "      <td>6</td>\n",
       "      <td>01-12-2010 08:26</td>\n",
       "      <td>2.55</td>\n",
       "      <td>17850.0</td>\n",
       "      <td>United Kingdom</td>\n",
       "    </tr>\n",
       "    <tr>\n",
       "      <th>1</th>\n",
       "      <td>536365</td>\n",
       "      <td>71053</td>\n",
       "      <td>WHITE METAL LANTERN</td>\n",
       "      <td>6</td>\n",
       "      <td>01-12-2010 08:26</td>\n",
       "      <td>3.39</td>\n",
       "      <td>17850.0</td>\n",
       "      <td>United Kingdom</td>\n",
       "    </tr>\n",
       "    <tr>\n",
       "      <th>2</th>\n",
       "      <td>536365</td>\n",
       "      <td>84406B</td>\n",
       "      <td>CREAM CUPID HEARTS COAT HANGER</td>\n",
       "      <td>8</td>\n",
       "      <td>01-12-2010 08:26</td>\n",
       "      <td>2.75</td>\n",
       "      <td>17850.0</td>\n",
       "      <td>United Kingdom</td>\n",
       "    </tr>\n",
       "    <tr>\n",
       "      <th>3</th>\n",
       "      <td>536365</td>\n",
       "      <td>84029G</td>\n",
       "      <td>KNITTED UNION FLAG HOT WATER BOTTLE</td>\n",
       "      <td>6</td>\n",
       "      <td>01-12-2010 08:26</td>\n",
       "      <td>3.39</td>\n",
       "      <td>17850.0</td>\n",
       "      <td>United Kingdom</td>\n",
       "    </tr>\n",
       "    <tr>\n",
       "      <th>4</th>\n",
       "      <td>536365</td>\n",
       "      <td>84029E</td>\n",
       "      <td>RED WOOLLY HOTTIE WHITE HEART.</td>\n",
       "      <td>6</td>\n",
       "      <td>01-12-2010 08:26</td>\n",
       "      <td>3.39</td>\n",
       "      <td>17850.0</td>\n",
       "      <td>United Kingdom</td>\n",
       "    </tr>\n",
       "  </tbody>\n",
       "</table>\n",
       "</div>"
      ],
      "text/plain": [
       "  InvoiceNo StockCode                          Description  Quantity  \\\n",
       "0    536365    85123A   WHITE HANGING HEART T-LIGHT HOLDER         6   \n",
       "1    536365     71053                  WHITE METAL LANTERN         6   \n",
       "2    536365    84406B       CREAM CUPID HEARTS COAT HANGER         8   \n",
       "3    536365    84029G  KNITTED UNION FLAG HOT WATER BOTTLE         6   \n",
       "4    536365    84029E       RED WOOLLY HOTTIE WHITE HEART.         6   \n",
       "\n",
       "        InvoiceDate  UnitPrice  CustomerID         Country  \n",
       "0  01-12-2010 08:26       2.55     17850.0  United Kingdom  \n",
       "1  01-12-2010 08:26       3.39     17850.0  United Kingdom  \n",
       "2  01-12-2010 08:26       2.75     17850.0  United Kingdom  \n",
       "3  01-12-2010 08:26       3.39     17850.0  United Kingdom  \n",
       "4  01-12-2010 08:26       3.39     17850.0  United Kingdom  "
      ]
     },
     "execution_count": 4,
     "metadata": {},
     "output_type": "execute_result"
    }
   ],
   "source": [
    "df.head()"
   ]
  },
  {
   "cell_type": "code",
   "execution_count": 5,
   "id": "5daea232",
   "metadata": {},
   "outputs": [
    {
     "name": "stdout",
     "output_type": "stream",
     "text": [
      "<class 'pandas.core.frame.DataFrame'>\n",
      "RangeIndex: 541909 entries, 0 to 541908\n",
      "Data columns (total 8 columns):\n",
      " #   Column       Non-Null Count   Dtype  \n",
      "---  ------       --------------   -----  \n",
      " 0   InvoiceNo    541909 non-null  object \n",
      " 1   StockCode    541909 non-null  object \n",
      " 2   Description  540455 non-null  object \n",
      " 3   Quantity     541909 non-null  int64  \n",
      " 4   InvoiceDate  541909 non-null  object \n",
      " 5   UnitPrice    541909 non-null  float64\n",
      " 6   CustomerID   406829 non-null  float64\n",
      " 7   Country      541909 non-null  object \n",
      "dtypes: float64(2), int64(1), object(5)\n",
      "memory usage: 33.1+ MB\n"
     ]
    }
   ],
   "source": [
    "df.info()"
   ]
  },
  {
   "cell_type": "code",
   "execution_count": 6,
   "id": "0e3fffc1",
   "metadata": {},
   "outputs": [
    {
     "data": {
      "text/plain": [
       "InvoiceNo           0\n",
       "StockCode           0\n",
       "Description      1454\n",
       "Quantity            0\n",
       "InvoiceDate         0\n",
       "UnitPrice           0\n",
       "CustomerID     135080\n",
       "Country             0\n",
       "dtype: int64"
      ]
     },
     "execution_count": 6,
     "metadata": {},
     "output_type": "execute_result"
    }
   ],
   "source": [
    "df.isnull().sum()"
   ]
  },
  {
   "cell_type": "code",
   "execution_count": 7,
   "id": "19ba4f19",
   "metadata": {},
   "outputs": [],
   "source": [
    "df= df.dropna(subset=['CustomerID'])"
   ]
  },
  {
   "cell_type": "code",
   "execution_count": 8,
   "id": "99335e26",
   "metadata": {},
   "outputs": [
    {
     "data": {
      "text/plain": [
       "InvoiceNo      0\n",
       "StockCode      0\n",
       "Description    0\n",
       "Quantity       0\n",
       "InvoiceDate    0\n",
       "UnitPrice      0\n",
       "CustomerID     0\n",
       "Country        0\n",
       "dtype: int64"
      ]
     },
     "execution_count": 8,
     "metadata": {},
     "output_type": "execute_result"
    }
   ],
   "source": [
    "df.isnull().sum()"
   ]
  },
  {
   "cell_type": "code",
   "execution_count": 9,
   "id": "25819970",
   "metadata": {},
   "outputs": [
    {
     "data": {
      "text/plain": [
       "5225"
      ]
     },
     "execution_count": 9,
     "metadata": {},
     "output_type": "execute_result"
    }
   ],
   "source": [
    "df.duplicated().sum()"
   ]
  },
  {
   "cell_type": "code",
   "execution_count": 10,
   "id": "3469e7da",
   "metadata": {},
   "outputs": [],
   "source": [
    "df = df.drop_duplicates()"
   ]
  },
  {
   "cell_type": "code",
   "execution_count": 11,
   "id": "5143045a",
   "metadata": {},
   "outputs": [
    {
     "data": {
      "text/plain": [
       "0"
      ]
     },
     "execution_count": 11,
     "metadata": {},
     "output_type": "execute_result"
    }
   ],
   "source": [
    "df.duplicated().sum()"
   ]
  },
  {
   "cell_type": "code",
   "execution_count": 12,
   "id": "22b4d748",
   "metadata": {},
   "outputs": [
    {
     "data": {
      "text/html": [
       "<div>\n",
       "<style scoped>\n",
       "    .dataframe tbody tr th:only-of-type {\n",
       "        vertical-align: middle;\n",
       "    }\n",
       "\n",
       "    .dataframe tbody tr th {\n",
       "        vertical-align: top;\n",
       "    }\n",
       "\n",
       "    .dataframe thead th {\n",
       "        text-align: right;\n",
       "    }\n",
       "</style>\n",
       "<table border=\"1\" class=\"dataframe\">\n",
       "  <thead>\n",
       "    <tr style=\"text-align: right;\">\n",
       "      <th></th>\n",
       "      <th>Quantity</th>\n",
       "      <th>UnitPrice</th>\n",
       "      <th>CustomerID</th>\n",
       "    </tr>\n",
       "  </thead>\n",
       "  <tbody>\n",
       "    <tr>\n",
       "      <th>count</th>\n",
       "      <td>401604.000000</td>\n",
       "      <td>401604.000000</td>\n",
       "      <td>401604.000000</td>\n",
       "    </tr>\n",
       "    <tr>\n",
       "      <th>mean</th>\n",
       "      <td>12.183273</td>\n",
       "      <td>3.474064</td>\n",
       "      <td>15281.160818</td>\n",
       "    </tr>\n",
       "    <tr>\n",
       "      <th>std</th>\n",
       "      <td>250.283037</td>\n",
       "      <td>69.764035</td>\n",
       "      <td>1714.006089</td>\n",
       "    </tr>\n",
       "    <tr>\n",
       "      <th>min</th>\n",
       "      <td>-80995.000000</td>\n",
       "      <td>0.000000</td>\n",
       "      <td>12346.000000</td>\n",
       "    </tr>\n",
       "    <tr>\n",
       "      <th>25%</th>\n",
       "      <td>2.000000</td>\n",
       "      <td>1.250000</td>\n",
       "      <td>13939.000000</td>\n",
       "    </tr>\n",
       "    <tr>\n",
       "      <th>50%</th>\n",
       "      <td>5.000000</td>\n",
       "      <td>1.950000</td>\n",
       "      <td>15145.000000</td>\n",
       "    </tr>\n",
       "    <tr>\n",
       "      <th>75%</th>\n",
       "      <td>12.000000</td>\n",
       "      <td>3.750000</td>\n",
       "      <td>16784.000000</td>\n",
       "    </tr>\n",
       "    <tr>\n",
       "      <th>max</th>\n",
       "      <td>80995.000000</td>\n",
       "      <td>38970.000000</td>\n",
       "      <td>18287.000000</td>\n",
       "    </tr>\n",
       "  </tbody>\n",
       "</table>\n",
       "</div>"
      ],
      "text/plain": [
       "            Quantity      UnitPrice     CustomerID\n",
       "count  401604.000000  401604.000000  401604.000000\n",
       "mean       12.183273       3.474064   15281.160818\n",
       "std       250.283037      69.764035    1714.006089\n",
       "min    -80995.000000       0.000000   12346.000000\n",
       "25%         2.000000       1.250000   13939.000000\n",
       "50%         5.000000       1.950000   15145.000000\n",
       "75%        12.000000       3.750000   16784.000000\n",
       "max     80995.000000   38970.000000   18287.000000"
      ]
     },
     "execution_count": 12,
     "metadata": {},
     "output_type": "execute_result"
    }
   ],
   "source": [
    "df.describe()"
   ]
  },
  {
   "cell_type": "code",
   "execution_count": 13,
   "id": "26cdec9a",
   "metadata": {},
   "outputs": [
    {
     "data": {
      "text/html": [
       "<div>\n",
       "<style scoped>\n",
       "    .dataframe tbody tr th:only-of-type {\n",
       "        vertical-align: middle;\n",
       "    }\n",
       "\n",
       "    .dataframe tbody tr th {\n",
       "        vertical-align: top;\n",
       "    }\n",
       "\n",
       "    .dataframe thead th {\n",
       "        text-align: right;\n",
       "    }\n",
       "</style>\n",
       "<table border=\"1\" class=\"dataframe\">\n",
       "  <thead>\n",
       "    <tr style=\"text-align: right;\">\n",
       "      <th></th>\n",
       "      <th>Quantity</th>\n",
       "      <th>UnitPrice</th>\n",
       "      <th>CustomerID</th>\n",
       "    </tr>\n",
       "  </thead>\n",
       "  <tbody>\n",
       "    <tr>\n",
       "      <th>count</th>\n",
       "      <td>392692.000000</td>\n",
       "      <td>392692.000000</td>\n",
       "      <td>392692.000000</td>\n",
       "    </tr>\n",
       "    <tr>\n",
       "      <th>mean</th>\n",
       "      <td>13.119702</td>\n",
       "      <td>3.125914</td>\n",
       "      <td>15287.843865</td>\n",
       "    </tr>\n",
       "    <tr>\n",
       "      <th>std</th>\n",
       "      <td>180.492832</td>\n",
       "      <td>22.241836</td>\n",
       "      <td>1713.539549</td>\n",
       "    </tr>\n",
       "    <tr>\n",
       "      <th>min</th>\n",
       "      <td>1.000000</td>\n",
       "      <td>0.001000</td>\n",
       "      <td>12346.000000</td>\n",
       "    </tr>\n",
       "    <tr>\n",
       "      <th>25%</th>\n",
       "      <td>2.000000</td>\n",
       "      <td>1.250000</td>\n",
       "      <td>13955.000000</td>\n",
       "    </tr>\n",
       "    <tr>\n",
       "      <th>50%</th>\n",
       "      <td>6.000000</td>\n",
       "      <td>1.950000</td>\n",
       "      <td>15150.000000</td>\n",
       "    </tr>\n",
       "    <tr>\n",
       "      <th>75%</th>\n",
       "      <td>12.000000</td>\n",
       "      <td>3.750000</td>\n",
       "      <td>16791.000000</td>\n",
       "    </tr>\n",
       "    <tr>\n",
       "      <th>max</th>\n",
       "      <td>80995.000000</td>\n",
       "      <td>8142.750000</td>\n",
       "      <td>18287.000000</td>\n",
       "    </tr>\n",
       "  </tbody>\n",
       "</table>\n",
       "</div>"
      ],
      "text/plain": [
       "            Quantity      UnitPrice     CustomerID\n",
       "count  392692.000000  392692.000000  392692.000000\n",
       "mean       13.119702       3.125914   15287.843865\n",
       "std       180.492832      22.241836    1713.539549\n",
       "min         1.000000       0.001000   12346.000000\n",
       "25%         2.000000       1.250000   13955.000000\n",
       "50%         6.000000       1.950000   15150.000000\n",
       "75%        12.000000       3.750000   16791.000000\n",
       "max     80995.000000    8142.750000   18287.000000"
      ]
     },
     "execution_count": 13,
     "metadata": {},
     "output_type": "execute_result"
    }
   ],
   "source": [
    "df=df[(df['Quantity']>0) & (df['UnitPrice']>0)]\n",
    "df.describe()"
   ]
  },
  {
   "cell_type": "code",
   "execution_count": 14,
   "id": "6e260e72",
   "metadata": {},
   "outputs": [
    {
     "data": {
      "text/plain": [
       "<Axes: >"
      ]
     },
     "execution_count": 14,
     "metadata": {},
     "output_type": "execute_result"
    },
    {
     "data": {
      "image/png": "[encoded data removed]",
      "text/plain": [
       "<Figure size 640x480 with 1 Axes>"
      ]
     },
     "metadata": {},
     "output_type": "display_data"
    }
   ],
   "source": [
    "sns.boxplot(df.Quantity)"
   ]
  },
  {
   "cell_type": "code",
   "execution_count": 15,
   "id": "af9bed71",
   "metadata": {},
   "outputs": [],
   "source": [
    "df = df[df.Quantity < 60000]"
   ]
  },
  {
   "cell_type": "code",
   "execution_count": 16,
   "id": "b9a023b8",
   "metadata": {},
   "outputs": [
    {
     "data": {
      "text/plain": [
       "<Axes: >"
      ]
     },
     "execution_count": 16,
     "metadata": {},
     "output_type": "execute_result"
    },
    {
     "data": {
      "image/png": "[encoded data removed]",
      "text/plain": [
       "<Figure size 640x480 with 1 Axes>"
      ]
     },
     "metadata": {},
     "output_type": "display_data"
    }
   ],
   "source": [
    "sns.boxplot(df.Quantity)"
   ]
  },
  {
   "cell_type": "code",
   "execution_count": 17,
   "id": "15fe97ae",
   "metadata": {},
   "outputs": [
    {
     "data": {
      "text/plain": [
       "CustomerID     4337\n",
       "Description    3876\n",
       "Country          37\n",
       "dtype: int64"
      ]
     },
     "execution_count": 17,
     "metadata": {},
     "output_type": "execute_result"
    }
   ],
   "source": [
    "df[['CustomerID','Description','Country']].nunique()"
   ]
  },
  {
   "cell_type": "code",
   "execution_count": 18,
   "id": "3be58d03",
   "metadata": {},
   "outputs": [],
   "source": [
    "df_req = df[['InvoiceNo', 'Quantity', 'InvoiceDate', 'UnitPrice', 'CustomerID']]"
   ]
  },
  {
   "cell_type": "code",
   "execution_count": 19,
   "id": "0cb77055",
   "metadata": {},
   "outputs": [
    {
     "name": "stderr",
     "output_type": "stream",
     "text": [
      "C:\\Users\\Sharath\\AppData\\Local\\Temp\\ipykernel_7940\\3054232015.py:1: SettingWithCopyWarning: \n",
      "A value is trying to be set on a copy of a slice from a DataFrame.\n",
      "Try using .loc[row_indexer,col_indexer] = value instead\n",
      "\n",
      "See the caveats in the documentation: https://pandas.pydata.org/pandas-docs/stable/user_guide/indexing.html#returning-a-view-versus-a-copy\n",
      "  df_req.CustomerID = df_req.CustomerID.round(0).astype('str')\n"
     ]
    }
   ],
   "source": [
    "df_req.CustomerID = df_req.CustomerID.round(0).astype('str')"
   ]
  },
  {
   "cell_type": "code",
   "execution_count": 20,
   "id": "6ebdad34",
   "metadata": {},
   "outputs": [
    {
     "data": {
      "text/plain": [
       "InvoiceNo       object\n",
       "Quantity         int64\n",
       "InvoiceDate     object\n",
       "UnitPrice      float64\n",
       "CustomerID      object\n",
       "dtype: object"
      ]
     },
     "execution_count": 20,
     "metadata": {},
     "output_type": "execute_result"
    }
   ],
   "source": [
    "df_req.dtypes"
   ]
  },
  {
   "cell_type": "markdown",
   "id": "bb829658",
   "metadata": {},
   "source": [
    "## Treating outliers in Quantity column"
   ]
  },
  {
   "cell_type": "code",
   "execution_count": 21,
   "id": "df9b7a03",
   "metadata": {},
   "outputs": [],
   "source": [
    "q1_qt = np.quantile(df_req.Quantity ,0.25)"
   ]
  },
  {
   "cell_type": "code",
   "execution_count": 22,
   "id": "954161d7",
   "metadata": {},
   "outputs": [],
   "source": [
    "q3_qt = np.quantile(df_req.Quantity ,0.75)"
   ]
  },
  {
   "cell_type": "code",
   "execution_count": 23,
   "id": "9f89adee",
   "metadata": {},
   "outputs": [],
   "source": [
    "IQR_qt = q3_qt - q1_qt"
   ]
  },
  {
   "cell_type": "code",
   "execution_count": 24,
   "id": "29cbcf94",
   "metadata": {},
   "outputs": [],
   "source": [
    "upper_qt = q3_qt + 2*(IQR_qt)"
   ]
  },
  {
   "cell_type": "code",
   "execution_count": 25,
   "id": "d5767cb3",
   "metadata": {},
   "outputs": [],
   "source": [
    "df_req = df_req[df_req.Quantity < upper_qt]"
   ]
  },
  {
   "cell_type": "code",
   "execution_count": 26,
   "id": "ebc8606a",
   "metadata": {},
   "outputs": [
    {
     "data": {
      "text/plain": [
       "(368298, 5)"
      ]
     },
     "execution_count": 26,
     "metadata": {},
     "output_type": "execute_result"
    }
   ],
   "source": [
    "df_req.shape"
   ]
  },
  {
   "cell_type": "markdown",
   "id": "c5df3a9a",
   "metadata": {},
   "source": [
    "## Treating outliers in UnitPrice column"
   ]
  },
  {
   "cell_type": "code",
   "execution_count": 27,
   "id": "51df5786",
   "metadata": {},
   "outputs": [],
   "source": [
    "q1_up = np.quantile(df_req.UnitPrice, 0.25)"
   ]
  },
  {
   "cell_type": "code",
   "execution_count": 28,
   "id": "92929805",
   "metadata": {},
   "outputs": [],
   "source": [
    "q3_up = np.quantile(df_req.UnitPrice, 0.75)"
   ]
  },
  {
   "cell_type": "code",
   "execution_count": 29,
   "id": "7f9dd3f6",
   "metadata": {},
   "outputs": [],
   "source": [
    "IQR_up = q3_up - q1_up "
   ]
  },
  {
   "cell_type": "code",
   "execution_count": 30,
   "id": "99ee0924",
   "metadata": {},
   "outputs": [],
   "source": [
    "lower_up = q1_up - 2*(IQR_up)"
   ]
  },
  {
   "cell_type": "code",
   "execution_count": 31,
   "id": "2207cedc",
   "metadata": {},
   "outputs": [],
   "source": [
    "upper_up = q3_up + 2*(IQR_up)"
   ]
  },
  {
   "cell_type": "code",
   "execution_count": 32,
   "id": "9ada1e97",
   "metadata": {},
   "outputs": [],
   "source": [
    "df_req = df_req[(df_req.UnitPrice > 0) & (df_req.UnitPrice < upper_up)]"
   ]
  },
  {
   "cell_type": "code",
   "execution_count": 33,
   "id": "13eedd16",
   "metadata": {},
   "outputs": [
    {
     "data": {
      "text/plain": [
       "(351366, 5)"
      ]
     },
     "execution_count": 33,
     "metadata": {},
     "output_type": "execute_result"
    }
   ],
   "source": [
    "df_req.shape"
   ]
  },
  {
   "cell_type": "code",
   "execution_count": 34,
   "id": "5a04a6d6",
   "metadata": {},
   "outputs": [
    {
     "data": {
      "text/plain": [
       "InvoiceDate\n",
       "14-11-2011 15:27    488\n",
       "28-11-2011 15:54    469\n",
       "05-12-2011 17:17    466\n",
       "31-10-2011 14:09    399\n",
       "21-09-2011 14:40    388\n",
       "                   ... \n",
       "23-06-2011 09:56      1\n",
       "04-08-2011 17:45      1\n",
       "03-04-2011 11:45      1\n",
       "04-08-2011 17:55      1\n",
       "19-05-2011 12:09      1\n",
       "Name: count, Length: 15937, dtype: int64"
      ]
     },
     "execution_count": 34,
     "metadata": {},
     "output_type": "execute_result"
    }
   ],
   "source": [
    "df_req.InvoiceDate.value_counts()"
   ]
  },
  {
   "cell_type": "markdown",
   "id": "456478f9",
   "metadata": {},
   "source": [
    "## Creating necessary columns"
   ]
  },
  {
   "cell_type": "code",
   "execution_count": 35,
   "id": "80096953",
   "metadata": {},
   "outputs": [],
   "source": [
    "df_req['InvoiceDate'] = pd.to_datetime(df_req['InvoiceDate'], format='%d-%m-%Y %H:%M')"
   ]
  },
  {
   "cell_type": "code",
   "execution_count": 36,
   "id": "d2828fc5",
   "metadata": {},
   "outputs": [],
   "source": [
    "df_req['Date'] = df_req['InvoiceDate'].dt.date"
   ]
  },
  {
   "cell_type": "code",
   "execution_count": 37,
   "id": "73fa5aef",
   "metadata": {},
   "outputs": [],
   "source": [
    "df_req['Total'] = df_req['Quantity'] * df_req['UnitPrice'] "
   ]
  },
  {
   "cell_type": "code",
   "execution_count": 38,
   "id": "568d13f2",
   "metadata": {},
   "outputs": [
    {
     "data": {
      "text/html": [
       "<div>\n",
       "<style scoped>\n",
       "    .dataframe tbody tr th:only-of-type {\n",
       "        vertical-align: middle;\n",
       "    }\n",
       "\n",
       "    .dataframe tbody tr th {\n",
       "        vertical-align: top;\n",
       "    }\n",
       "\n",
       "    .dataframe thead th {\n",
       "        text-align: right;\n",
       "    }\n",
       "</style>\n",
       "<table border=\"1\" class=\"dataframe\">\n",
       "  <thead>\n",
       "    <tr style=\"text-align: right;\">\n",
       "      <th></th>\n",
       "      <th>InvoiceNo</th>\n",
       "      <th>Quantity</th>\n",
       "      <th>InvoiceDate</th>\n",
       "      <th>UnitPrice</th>\n",
       "      <th>CustomerID</th>\n",
       "      <th>Date</th>\n",
       "      <th>Total</th>\n",
       "    </tr>\n",
       "  </thead>\n",
       "  <tbody>\n",
       "    <tr>\n",
       "      <th>0</th>\n",
       "      <td>536365</td>\n",
       "      <td>6</td>\n",
       "      <td>2010-12-01 08:26:00</td>\n",
       "      <td>2.55</td>\n",
       "      <td>17850.0</td>\n",
       "      <td>2010-12-01</td>\n",
       "      <td>15.30</td>\n",
       "    </tr>\n",
       "    <tr>\n",
       "      <th>1</th>\n",
       "      <td>536365</td>\n",
       "      <td>6</td>\n",
       "      <td>2010-12-01 08:26:00</td>\n",
       "      <td>3.39</td>\n",
       "      <td>17850.0</td>\n",
       "      <td>2010-12-01</td>\n",
       "      <td>20.34</td>\n",
       "    </tr>\n",
       "    <tr>\n",
       "      <th>2</th>\n",
       "      <td>536365</td>\n",
       "      <td>8</td>\n",
       "      <td>2010-12-01 08:26:00</td>\n",
       "      <td>2.75</td>\n",
       "      <td>17850.0</td>\n",
       "      <td>2010-12-01</td>\n",
       "      <td>22.00</td>\n",
       "    </tr>\n",
       "    <tr>\n",
       "      <th>3</th>\n",
       "      <td>536365</td>\n",
       "      <td>6</td>\n",
       "      <td>2010-12-01 08:26:00</td>\n",
       "      <td>3.39</td>\n",
       "      <td>17850.0</td>\n",
       "      <td>2010-12-01</td>\n",
       "      <td>20.34</td>\n",
       "    </tr>\n",
       "    <tr>\n",
       "      <th>4</th>\n",
       "      <td>536365</td>\n",
       "      <td>6</td>\n",
       "      <td>2010-12-01 08:26:00</td>\n",
       "      <td>3.39</td>\n",
       "      <td>17850.0</td>\n",
       "      <td>2010-12-01</td>\n",
       "      <td>20.34</td>\n",
       "    </tr>\n",
       "  </tbody>\n",
       "</table>\n",
       "</div>"
      ],
      "text/plain": [
       "  InvoiceNo  Quantity         InvoiceDate  UnitPrice CustomerID        Date  \\\n",
       "0    536365         6 2010-12-01 08:26:00       2.55    17850.0  2010-12-01   \n",
       "1    536365         6 2010-12-01 08:26:00       3.39    17850.0  2010-12-01   \n",
       "2    536365         8 2010-12-01 08:26:00       2.75    17850.0  2010-12-01   \n",
       "3    536365         6 2010-12-01 08:26:00       3.39    17850.0  2010-12-01   \n",
       "4    536365         6 2010-12-01 08:26:00       3.39    17850.0  2010-12-01   \n",
       "\n",
       "   Total  \n",
       "0  15.30  \n",
       "1  20.34  \n",
       "2  22.00  \n",
       "3  20.34  \n",
       "4  20.34  "
      ]
     },
     "execution_count": 38,
     "metadata": {},
     "output_type": "execute_result"
    }
   ],
   "source": [
    "df_req.head()"
   ]
  },
  {
   "cell_type": "markdown",
   "id": "11fcd9ce",
   "metadata": {},
   "source": [
    "## RFM"
   ]
  },
  {
   "cell_type": "markdown",
   "id": "0cccbafc",
   "metadata": {},
   "source": [
    "### (1) Recency"
   ]
  },
  {
   "cell_type": "code",
   "execution_count": 39,
   "id": "0eea32ca",
   "metadata": {},
   "outputs": [],
   "source": [
    "recent_date = df_req.Date.max() + pd.Timedelta(days=1)"
   ]
  },
  {
   "cell_type": "code",
   "execution_count": 40,
   "id": "aec861fc",
   "metadata": {},
   "outputs": [
    {
     "name": "stdout",
     "output_type": "stream",
     "text": [
      "2011-12-10\n"
     ]
    }
   ],
   "source": [
    "print(recent_date)"
   ]
  },
  {
   "cell_type": "code",
   "execution_count": 41,
   "id": "03633b94",
   "metadata": {},
   "outputs": [],
   "source": [
    "df_recency = df_req.groupby(['CustomerID'], as_index = False )['Date'].max()"
   ]
  },
  {
   "cell_type": "code",
   "execution_count": 42,
   "id": "58015539",
   "metadata": {},
   "outputs": [],
   "source": [
    "df_recency.columns = ['CustomerID', 'Latest_order_date']"
   ]
  },
  {
   "cell_type": "code",
   "execution_count": 43,
   "id": "10b9fc22",
   "metadata": {},
   "outputs": [],
   "source": [
    "recent_date = pd.to_datetime('2011-12-09')"
   ]
  },
  {
   "cell_type": "code",
   "execution_count": 44,
   "id": "d2f6478f",
   "metadata": {},
   "outputs": [],
   "source": [
    "df_recency['Latest_order_date'] = pd.to_datetime(df_recency['Latest_order_date'], format='%Y-%m-%d')"
   ]
  },
  {
   "cell_type": "code",
   "execution_count": 45,
   "id": "4b884cad",
   "metadata": {},
   "outputs": [],
   "source": [
    "df_recency['Recency'] = (recent_date - df_recency['Latest_order_date']).dt.days"
   ]
  },
  {
   "cell_type": "code",
   "execution_count": 46,
   "id": "5c31b4ac",
   "metadata": {},
   "outputs": [
    {
     "data": {
      "text/html": [
       "<div>\n",
       "<style scoped>\n",
       "    .dataframe tbody tr th:only-of-type {\n",
       "        vertical-align: middle;\n",
       "    }\n",
       "\n",
       "    .dataframe tbody tr th {\n",
       "        vertical-align: top;\n",
       "    }\n",
       "\n",
       "    .dataframe thead th {\n",
       "        text-align: right;\n",
       "    }\n",
       "</style>\n",
       "<table border=\"1\" class=\"dataframe\">\n",
       "  <thead>\n",
       "    <tr style=\"text-align: right;\">\n",
       "      <th></th>\n",
       "      <th>CustomerID</th>\n",
       "      <th>Latest_order_date</th>\n",
       "      <th>Recency</th>\n",
       "    </tr>\n",
       "  </thead>\n",
       "  <tbody>\n",
       "    <tr>\n",
       "      <th>0</th>\n",
       "      <td>12347.0</td>\n",
       "      <td>2011-12-07</td>\n",
       "      <td>2</td>\n",
       "    </tr>\n",
       "    <tr>\n",
       "      <th>1</th>\n",
       "      <td>12348.0</td>\n",
       "      <td>2011-04-05</td>\n",
       "      <td>248</td>\n",
       "    </tr>\n",
       "    <tr>\n",
       "      <th>2</th>\n",
       "      <td>12349.0</td>\n",
       "      <td>2011-11-21</td>\n",
       "      <td>18</td>\n",
       "    </tr>\n",
       "    <tr>\n",
       "      <th>3</th>\n",
       "      <td>12350.0</td>\n",
       "      <td>2011-02-02</td>\n",
       "      <td>310</td>\n",
       "    </tr>\n",
       "    <tr>\n",
       "      <th>4</th>\n",
       "      <td>12352.0</td>\n",
       "      <td>2011-11-03</td>\n",
       "      <td>36</td>\n",
       "    </tr>\n",
       "  </tbody>\n",
       "</table>\n",
       "</div>"
      ],
      "text/plain": [
       "  CustomerID Latest_order_date  Recency\n",
       "0    12347.0        2011-12-07        2\n",
       "1    12348.0        2011-04-05      248\n",
       "2    12349.0        2011-11-21       18\n",
       "3    12350.0        2011-02-02      310\n",
       "4    12352.0        2011-11-03       36"
      ]
     },
     "execution_count": 46,
     "metadata": {},
     "output_type": "execute_result"
    }
   ],
   "source": [
    "df_recency.head()"
   ]
  },
  {
   "cell_type": "markdown",
   "id": "2065cb7d",
   "metadata": {},
   "source": [
    "### (2) Frequency and Monetary"
   ]
  },
  {
   "cell_type": "code",
   "execution_count": 47,
   "id": "1c88fbab",
   "metadata": {},
   "outputs": [],
   "source": [
    "df_fr_mo =df_req.groupby('CustomerID',as_index=False).agg({'InvoiceNo': 'nunique','Total': 'sum'})"
   ]
  },
  {
   "cell_type": "code",
   "execution_count": 48,
   "id": "22886d22",
   "metadata": {},
   "outputs": [],
   "source": [
    "df_fr_mo.rename(columns={'InvoiceNo':'Frequency','Total':'Monetary'},inplace=True)"
   ]
  },
  {
   "cell_type": "code",
   "execution_count": 49,
   "id": "9414b911",
   "metadata": {},
   "outputs": [
    {
     "data": {
      "text/html": [
       "<div>\n",
       "<style scoped>\n",
       "    .dataframe tbody tr th:only-of-type {\n",
       "        vertical-align: middle;\n",
       "    }\n",
       "\n",
       "    .dataframe tbody tr th {\n",
       "        vertical-align: top;\n",
       "    }\n",
       "\n",
       "    .dataframe thead th {\n",
       "        text-align: right;\n",
       "    }\n",
       "</style>\n",
       "<table border=\"1\" class=\"dataframe\">\n",
       "  <thead>\n",
       "    <tr style=\"text-align: right;\">\n",
       "      <th></th>\n",
       "      <th>CustomerID</th>\n",
       "      <th>Frequency</th>\n",
       "      <th>Monetary</th>\n",
       "    </tr>\n",
       "  </thead>\n",
       "  <tbody>\n",
       "    <tr>\n",
       "      <th>0</th>\n",
       "      <td>12347.0</td>\n",
       "      <td>7</td>\n",
       "      <td>3450.03</td>\n",
       "    </tr>\n",
       "    <tr>\n",
       "      <th>1</th>\n",
       "      <td>12348.0</td>\n",
       "      <td>3</td>\n",
       "      <td>90.20</td>\n",
       "    </tr>\n",
       "    <tr>\n",
       "      <th>2</th>\n",
       "      <td>12349.0</td>\n",
       "      <td>1</td>\n",
       "      <td>1197.15</td>\n",
       "    </tr>\n",
       "    <tr>\n",
       "      <th>3</th>\n",
       "      <td>12350.0</td>\n",
       "      <td>1</td>\n",
       "      <td>294.40</td>\n",
       "    </tr>\n",
       "    <tr>\n",
       "      <th>4</th>\n",
       "      <td>12352.0</td>\n",
       "      <td>7</td>\n",
       "      <td>1232.44</td>\n",
       "    </tr>\n",
       "  </tbody>\n",
       "</table>\n",
       "</div>"
      ],
      "text/plain": [
       "  CustomerID  Frequency  Monetary\n",
       "0    12347.0          7   3450.03\n",
       "1    12348.0          3     90.20\n",
       "2    12349.0          1   1197.15\n",
       "3    12350.0          1    294.40\n",
       "4    12352.0          7   1232.44"
      ]
     },
     "execution_count": 49,
     "metadata": {},
     "output_type": "execute_result"
    }
   ],
   "source": [
    "df_fr_mo.head()"
   ]
  },
  {
   "cell_type": "code",
   "execution_count": 50,
   "id": "b6484588",
   "metadata": {},
   "outputs": [],
   "source": [
    "rfm = df_recency.merge(df_fr_mo, left_on = 'CustomerID' , right_on = 'CustomerID')"
   ]
  },
  {
   "cell_type": "code",
   "execution_count": 51,
   "id": "9b767464",
   "metadata": {},
   "outputs": [],
   "source": [
    "rfm = rfm.drop('Latest_order_date', axis =1)"
   ]
  },
  {
   "cell_type": "code",
   "execution_count": 52,
   "id": "cd0e442e",
   "metadata": {},
   "outputs": [
    {
     "data": {
      "text/html": [
       "<div>\n",
       "<style scoped>\n",
       "    .dataframe tbody tr th:only-of-type {\n",
       "        vertical-align: middle;\n",
       "    }\n",
       "\n",
       "    .dataframe tbody tr th {\n",
       "        vertical-align: top;\n",
       "    }\n",
       "\n",
       "    .dataframe thead th {\n",
       "        text-align: right;\n",
       "    }\n",
       "</style>\n",
       "<table border=\"1\" class=\"dataframe\">\n",
       "  <thead>\n",
       "    <tr style=\"text-align: right;\">\n",
       "      <th></th>\n",
       "      <th>CustomerID</th>\n",
       "      <th>Recency</th>\n",
       "      <th>Frequency</th>\n",
       "      <th>Monetary</th>\n",
       "    </tr>\n",
       "  </thead>\n",
       "  <tbody>\n",
       "    <tr>\n",
       "      <th>0</th>\n",
       "      <td>12347.0</td>\n",
       "      <td>2</td>\n",
       "      <td>7</td>\n",
       "      <td>3450.03</td>\n",
       "    </tr>\n",
       "    <tr>\n",
       "      <th>1</th>\n",
       "      <td>12348.0</td>\n",
       "      <td>248</td>\n",
       "      <td>3</td>\n",
       "      <td>90.20</td>\n",
       "    </tr>\n",
       "    <tr>\n",
       "      <th>2</th>\n",
       "      <td>12349.0</td>\n",
       "      <td>18</td>\n",
       "      <td>1</td>\n",
       "      <td>1197.15</td>\n",
       "    </tr>\n",
       "    <tr>\n",
       "      <th>3</th>\n",
       "      <td>12350.0</td>\n",
       "      <td>310</td>\n",
       "      <td>1</td>\n",
       "      <td>294.40</td>\n",
       "    </tr>\n",
       "    <tr>\n",
       "      <th>4</th>\n",
       "      <td>12352.0</td>\n",
       "      <td>36</td>\n",
       "      <td>7</td>\n",
       "      <td>1232.44</td>\n",
       "    </tr>\n",
       "  </tbody>\n",
       "</table>\n",
       "</div>"
      ],
      "text/plain": [
       "  CustomerID  Recency  Frequency  Monetary\n",
       "0    12347.0        2          7   3450.03\n",
       "1    12348.0      248          3     90.20\n",
       "2    12349.0       18          1   1197.15\n",
       "3    12350.0      310          1    294.40\n",
       "4    12352.0       36          7   1232.44"
      ]
     },
     "execution_count": 52,
     "metadata": {},
     "output_type": "execute_result"
    }
   ],
   "source": [
    "rfm.head()"
   ]
  },
  {
   "cell_type": "code",
   "execution_count": 53,
   "id": "b6386baf",
   "metadata": {},
   "outputs": [
    {
     "data": {
      "text/plain": [
       "CustomerID     object\n",
       "Recency         int64\n",
       "Frequency       int64\n",
       "Monetary      float64\n",
       "dtype: object"
      ]
     },
     "execution_count": 53,
     "metadata": {},
     "output_type": "execute_result"
    }
   ],
   "source": [
    "rfm.dtypes"
   ]
  },
  {
   "cell_type": "markdown",
   "id": "62e32d7e",
   "metadata": {},
   "source": [
    "## RFM Quantiles"
   ]
  },
  {
   "cell_type": "code",
   "execution_count": 54,
   "id": "4e0f0054",
   "metadata": {},
   "outputs": [],
   "source": [
    "rfm = rfm.apply(pd.to_numeric, errors='ignore')"
   ]
  },
  {
   "cell_type": "code",
   "execution_count": 55,
   "id": "2b9f90f5",
   "metadata": {},
   "outputs": [],
   "source": [
    "quantiles=rfm.quantile([0.25,0.50,0.75])"
   ]
  },
  {
   "cell_type": "code",
   "execution_count": 56,
   "id": "6aaf96cc",
   "metadata": {},
   "outputs": [],
   "source": [
    "rfm = rfm.apply(pd.to_numeric, errors='coerce')"
   ]
  },
  {
   "cell_type": "code",
   "execution_count": 57,
   "id": "ea59544b",
   "metadata": {},
   "outputs": [],
   "source": [
    "quantiles=quantiles.to_dict()"
   ]
  },
  {
   "cell_type": "code",
   "execution_count": 58,
   "id": "82f3c90b",
   "metadata": {},
   "outputs": [
    {
     "name": "stdout",
     "output_type": "stream",
     "text": [
      "{'CustomerID': {0.25: 13809.5, 0.5: 15281.0, 0.75: 16768.5}, 'Recency': {0.25: 17.0, 0.5: 50.0, 0.75: 143.0}, 'Frequency': {0.25: 1.0, 0.5: 2.0, 0.75: 4.0}, 'Monetary': {0.25: 226.33, 0.5: 512.52, 0.75: 1242.9650000000001}}\n"
     ]
    }
   ],
   "source": [
    "print(quantiles)"
   ]
  },
  {
   "cell_type": "code",
   "execution_count": 59,
   "id": "a98c2a85",
   "metadata": {},
   "outputs": [],
   "source": [
    "def Rscoring(x,p,d):\n",
    "    if x <= d[p][0.25]:\n",
    "        return 1\n",
    "    elif x <= d[p][0.50]:\n",
    "        return 2\n",
    "    elif x <= d[p][0.75]:\n",
    "        return 3\n",
    "    else:\n",
    "        return 4"
   ]
  },
  {
   "cell_type": "code",
   "execution_count": 60,
   "id": "e4489d9b",
   "metadata": {},
   "outputs": [],
   "source": [
    "rfm['R']=rfm['Recency'].apply(Rscoring,args=('Recency',quantiles))"
   ]
  },
  {
   "cell_type": "code",
   "execution_count": 61,
   "id": "07bd2f8d",
   "metadata": {},
   "outputs": [
    {
     "data": {
      "text/html": [
       "<div>\n",
       "<style scoped>\n",
       "    .dataframe tbody tr th:only-of-type {\n",
       "        vertical-align: middle;\n",
       "    }\n",
       "\n",
       "    .dataframe tbody tr th {\n",
       "        vertical-align: top;\n",
       "    }\n",
       "\n",
       "    .dataframe thead th {\n",
       "        text-align: right;\n",
       "    }\n",
       "</style>\n",
       "<table border=\"1\" class=\"dataframe\">\n",
       "  <thead>\n",
       "    <tr style=\"text-align: right;\">\n",
       "      <th></th>\n",
       "      <th>CustomerID</th>\n",
       "      <th>Recency</th>\n",
       "      <th>Frequency</th>\n",
       "      <th>Monetary</th>\n",
       "      <th>R</th>\n",
       "    </tr>\n",
       "  </thead>\n",
       "  <tbody>\n",
       "    <tr>\n",
       "      <th>0</th>\n",
       "      <td>12347.0</td>\n",
       "      <td>2</td>\n",
       "      <td>7</td>\n",
       "      <td>3450.03</td>\n",
       "      <td>1</td>\n",
       "    </tr>\n",
       "    <tr>\n",
       "      <th>1</th>\n",
       "      <td>12348.0</td>\n",
       "      <td>248</td>\n",
       "      <td>3</td>\n",
       "      <td>90.20</td>\n",
       "      <td>4</td>\n",
       "    </tr>\n",
       "    <tr>\n",
       "      <th>2</th>\n",
       "      <td>12349.0</td>\n",
       "      <td>18</td>\n",
       "      <td>1</td>\n",
       "      <td>1197.15</td>\n",
       "      <td>2</td>\n",
       "    </tr>\n",
       "    <tr>\n",
       "      <th>3</th>\n",
       "      <td>12350.0</td>\n",
       "      <td>310</td>\n",
       "      <td>1</td>\n",
       "      <td>294.40</td>\n",
       "      <td>4</td>\n",
       "    </tr>\n",
       "    <tr>\n",
       "      <th>4</th>\n",
       "      <td>12352.0</td>\n",
       "      <td>36</td>\n",
       "      <td>7</td>\n",
       "      <td>1232.44</td>\n",
       "      <td>2</td>\n",
       "    </tr>\n",
       "  </tbody>\n",
       "</table>\n",
       "</div>"
      ],
      "text/plain": [
       "   CustomerID  Recency  Frequency  Monetary  R\n",
       "0     12347.0        2          7   3450.03  1\n",
       "1     12348.0      248          3     90.20  4\n",
       "2     12349.0       18          1   1197.15  2\n",
       "3     12350.0      310          1    294.40  4\n",
       "4     12352.0       36          7   1232.44  2"
      ]
     },
     "execution_count": 61,
     "metadata": {},
     "output_type": "execute_result"
    }
   ],
   "source": [
    "rfm.head()"
   ]
  },
  {
   "cell_type": "code",
   "execution_count": 62,
   "id": "e26806ca",
   "metadata": {},
   "outputs": [],
   "source": [
    "def FMscoring(x,p,d):\n",
    "    if x <=d[p][0.25]:\n",
    "        return 4\n",
    "    elif x <= d[p][0.50]:\n",
    "        return 3\n",
    "    elif x <= d[p][0.75]:\n",
    "        return 2\n",
    "    else:\n",
    "        return 1"
   ]
  },
  {
   "cell_type": "code",
   "execution_count": 63,
   "id": "47aa9e3b",
   "metadata": {},
   "outputs": [],
   "source": [
    "rfm['F']=rfm['Frequency'].apply(FMscoring,args=('Frequency',quantiles))\n",
    "rfm['M']=rfm['Monetary'].apply(FMscoring,args=('Monetary',quantiles))"
   ]
  },
  {
   "cell_type": "code",
   "execution_count": 64,
   "id": "4264c842",
   "metadata": {},
   "outputs": [
    {
     "data": {
      "text/html": [
       "<div>\n",
       "<style scoped>\n",
       "    .dataframe tbody tr th:only-of-type {\n",
       "        vertical-align: middle;\n",
       "    }\n",
       "\n",
       "    .dataframe tbody tr th {\n",
       "        vertical-align: top;\n",
       "    }\n",
       "\n",
       "    .dataframe thead th {\n",
       "        text-align: right;\n",
       "    }\n",
       "</style>\n",
       "<table border=\"1\" class=\"dataframe\">\n",
       "  <thead>\n",
       "    <tr style=\"text-align: right;\">\n",
       "      <th></th>\n",
       "      <th>CustomerID</th>\n",
       "      <th>Recency</th>\n",
       "      <th>Frequency</th>\n",
       "      <th>Monetary</th>\n",
       "      <th>R</th>\n",
       "      <th>F</th>\n",
       "      <th>M</th>\n",
       "    </tr>\n",
       "  </thead>\n",
       "  <tbody>\n",
       "    <tr>\n",
       "      <th>0</th>\n",
       "      <td>12347.0</td>\n",
       "      <td>2</td>\n",
       "      <td>7</td>\n",
       "      <td>3450.03</td>\n",
       "      <td>1</td>\n",
       "      <td>1</td>\n",
       "      <td>1</td>\n",
       "    </tr>\n",
       "    <tr>\n",
       "      <th>1</th>\n",
       "      <td>12348.0</td>\n",
       "      <td>248</td>\n",
       "      <td>3</td>\n",
       "      <td>90.20</td>\n",
       "      <td>4</td>\n",
       "      <td>2</td>\n",
       "      <td>4</td>\n",
       "    </tr>\n",
       "    <tr>\n",
       "      <th>2</th>\n",
       "      <td>12349.0</td>\n",
       "      <td>18</td>\n",
       "      <td>1</td>\n",
       "      <td>1197.15</td>\n",
       "      <td>2</td>\n",
       "      <td>4</td>\n",
       "      <td>2</td>\n",
       "    </tr>\n",
       "    <tr>\n",
       "      <th>3</th>\n",
       "      <td>12350.0</td>\n",
       "      <td>310</td>\n",
       "      <td>1</td>\n",
       "      <td>294.40</td>\n",
       "      <td>4</td>\n",
       "      <td>4</td>\n",
       "      <td>3</td>\n",
       "    </tr>\n",
       "    <tr>\n",
       "      <th>4</th>\n",
       "      <td>12352.0</td>\n",
       "      <td>36</td>\n",
       "      <td>7</td>\n",
       "      <td>1232.44</td>\n",
       "      <td>2</td>\n",
       "      <td>1</td>\n",
       "      <td>2</td>\n",
       "    </tr>\n",
       "  </tbody>\n",
       "</table>\n",
       "</div>"
      ],
      "text/plain": [
       "   CustomerID  Recency  Frequency  Monetary  R  F  M\n",
       "0     12347.0        2          7   3450.03  1  1  1\n",
       "1     12348.0      248          3     90.20  4  2  4\n",
       "2     12349.0       18          1   1197.15  2  4  2\n",
       "3     12350.0      310          1    294.40  4  4  3\n",
       "4     12352.0       36          7   1232.44  2  1  2"
      ]
     },
     "execution_count": 64,
     "metadata": {},
     "output_type": "execute_result"
    }
   ],
   "source": [
    "rfm.head()"
   ]
  },
  {
   "cell_type": "markdown",
   "id": "4870bc7a",
   "metadata": {},
   "source": [
    "## RFM segment & RFM score"
   ]
  },
  {
   "cell_type": "code",
   "execution_count": 65,
   "id": "ce00e722",
   "metadata": {},
   "outputs": [],
   "source": [
    "rfm['RFMgroup'] = rfm.R.map(str)+rfm.M.map(str)+rfm.F.map(str)"
   ]
  },
  {
   "cell_type": "code",
   "execution_count": 66,
   "id": "3fec92aa",
   "metadata": {},
   "outputs": [],
   "source": [
    "rfm['RFM_score'] = rfm[['R','F','M']].sum(axis=1)"
   ]
  },
  {
   "cell_type": "code",
   "execution_count": 67,
   "id": "e6624d49",
   "metadata": {},
   "outputs": [
    {
     "data": {
      "text/html": [
       "<div>\n",
       "<style scoped>\n",
       "    .dataframe tbody tr th:only-of-type {\n",
       "        vertical-align: middle;\n",
       "    }\n",
       "\n",
       "    .dataframe tbody tr th {\n",
       "        vertical-align: top;\n",
       "    }\n",
       "\n",
       "    .dataframe thead th {\n",
       "        text-align: right;\n",
       "    }\n",
       "</style>\n",
       "<table border=\"1\" class=\"dataframe\">\n",
       "  <thead>\n",
       "    <tr style=\"text-align: right;\">\n",
       "      <th></th>\n",
       "      <th>CustomerID</th>\n",
       "      <th>Recency</th>\n",
       "      <th>Frequency</th>\n",
       "      <th>Monetary</th>\n",
       "      <th>R</th>\n",
       "      <th>F</th>\n",
       "      <th>M</th>\n",
       "      <th>RFMgroup</th>\n",
       "      <th>RFM_score</th>\n",
       "    </tr>\n",
       "  </thead>\n",
       "  <tbody>\n",
       "    <tr>\n",
       "      <th>0</th>\n",
       "      <td>12347.0</td>\n",
       "      <td>2</td>\n",
       "      <td>7</td>\n",
       "      <td>3450.03</td>\n",
       "      <td>1</td>\n",
       "      <td>1</td>\n",
       "      <td>1</td>\n",
       "      <td>111</td>\n",
       "      <td>3</td>\n",
       "    </tr>\n",
       "    <tr>\n",
       "      <th>1</th>\n",
       "      <td>12348.0</td>\n",
       "      <td>248</td>\n",
       "      <td>3</td>\n",
       "      <td>90.20</td>\n",
       "      <td>4</td>\n",
       "      <td>2</td>\n",
       "      <td>4</td>\n",
       "      <td>442</td>\n",
       "      <td>10</td>\n",
       "    </tr>\n",
       "    <tr>\n",
       "      <th>2</th>\n",
       "      <td>12349.0</td>\n",
       "      <td>18</td>\n",
       "      <td>1</td>\n",
       "      <td>1197.15</td>\n",
       "      <td>2</td>\n",
       "      <td>4</td>\n",
       "      <td>2</td>\n",
       "      <td>224</td>\n",
       "      <td>8</td>\n",
       "    </tr>\n",
       "    <tr>\n",
       "      <th>3</th>\n",
       "      <td>12350.0</td>\n",
       "      <td>310</td>\n",
       "      <td>1</td>\n",
       "      <td>294.40</td>\n",
       "      <td>4</td>\n",
       "      <td>4</td>\n",
       "      <td>3</td>\n",
       "      <td>434</td>\n",
       "      <td>11</td>\n",
       "    </tr>\n",
       "    <tr>\n",
       "      <th>4</th>\n",
       "      <td>12352.0</td>\n",
       "      <td>36</td>\n",
       "      <td>7</td>\n",
       "      <td>1232.44</td>\n",
       "      <td>2</td>\n",
       "      <td>1</td>\n",
       "      <td>2</td>\n",
       "      <td>221</td>\n",
       "      <td>5</td>\n",
       "    </tr>\n",
       "    <tr>\n",
       "      <th>5</th>\n",
       "      <td>12353.0</td>\n",
       "      <td>204</td>\n",
       "      <td>1</td>\n",
       "      <td>29.30</td>\n",
       "      <td>4</td>\n",
       "      <td>4</td>\n",
       "      <td>4</td>\n",
       "      <td>444</td>\n",
       "      <td>12</td>\n",
       "    </tr>\n",
       "    <tr>\n",
       "      <th>6</th>\n",
       "      <td>12354.0</td>\n",
       "      <td>232</td>\n",
       "      <td>1</td>\n",
       "      <td>780.39</td>\n",
       "      <td>4</td>\n",
       "      <td>4</td>\n",
       "      <td>2</td>\n",
       "      <td>424</td>\n",
       "      <td>10</td>\n",
       "    </tr>\n",
       "    <tr>\n",
       "      <th>7</th>\n",
       "      <td>12355.0</td>\n",
       "      <td>214</td>\n",
       "      <td>1</td>\n",
       "      <td>219.00</td>\n",
       "      <td>4</td>\n",
       "      <td>4</td>\n",
       "      <td>4</td>\n",
       "      <td>444</td>\n",
       "      <td>12</td>\n",
       "    </tr>\n",
       "    <tr>\n",
       "      <th>8</th>\n",
       "      <td>12356.0</td>\n",
       "      <td>245</td>\n",
       "      <td>2</td>\n",
       "      <td>1290.44</td>\n",
       "      <td>4</td>\n",
       "      <td>3</td>\n",
       "      <td>1</td>\n",
       "      <td>413</td>\n",
       "      <td>8</td>\n",
       "    </tr>\n",
       "    <tr>\n",
       "      <th>9</th>\n",
       "      <td>12357.0</td>\n",
       "      <td>33</td>\n",
       "      <td>1</td>\n",
       "      <td>3954.31</td>\n",
       "      <td>2</td>\n",
       "      <td>4</td>\n",
       "      <td>1</td>\n",
       "      <td>214</td>\n",
       "      <td>7</td>\n",
       "    </tr>\n",
       "    <tr>\n",
       "      <th>10</th>\n",
       "      <td>12358.0</td>\n",
       "      <td>1</td>\n",
       "      <td>2</td>\n",
       "      <td>894.12</td>\n",
       "      <td>1</td>\n",
       "      <td>3</td>\n",
       "      <td>2</td>\n",
       "      <td>123</td>\n",
       "      <td>6</td>\n",
       "    </tr>\n",
       "    <tr>\n",
       "      <th>11</th>\n",
       "      <td>12359.0</td>\n",
       "      <td>57</td>\n",
       "      <td>4</td>\n",
       "      <td>3817.78</td>\n",
       "      <td>3</td>\n",
       "      <td>2</td>\n",
       "      <td>1</td>\n",
       "      <td>312</td>\n",
       "      <td>6</td>\n",
       "    </tr>\n",
       "    <tr>\n",
       "      <th>12</th>\n",
       "      <td>12360.0</td>\n",
       "      <td>52</td>\n",
       "      <td>3</td>\n",
       "      <td>1907.86</td>\n",
       "      <td>3</td>\n",
       "      <td>2</td>\n",
       "      <td>1</td>\n",
       "      <td>312</td>\n",
       "      <td>6</td>\n",
       "    </tr>\n",
       "    <tr>\n",
       "      <th>13</th>\n",
       "      <td>12361.0</td>\n",
       "      <td>287</td>\n",
       "      <td>1</td>\n",
       "      <td>174.90</td>\n",
       "      <td>4</td>\n",
       "      <td>4</td>\n",
       "      <td>4</td>\n",
       "      <td>444</td>\n",
       "      <td>12</td>\n",
       "    </tr>\n",
       "    <tr>\n",
       "      <th>14</th>\n",
       "      <td>12362.0</td>\n",
       "      <td>3</td>\n",
       "      <td>10</td>\n",
       "      <td>4400.72</td>\n",
       "      <td>1</td>\n",
       "      <td>1</td>\n",
       "      <td>1</td>\n",
       "      <td>111</td>\n",
       "      <td>3</td>\n",
       "    </tr>\n",
       "    <tr>\n",
       "      <th>15</th>\n",
       "      <td>12363.0</td>\n",
       "      <td>109</td>\n",
       "      <td>2</td>\n",
       "      <td>532.20</td>\n",
       "      <td>3</td>\n",
       "      <td>3</td>\n",
       "      <td>2</td>\n",
       "      <td>323</td>\n",
       "      <td>8</td>\n",
       "    </tr>\n",
       "    <tr>\n",
       "      <th>16</th>\n",
       "      <td>12364.0</td>\n",
       "      <td>7</td>\n",
       "      <td>3</td>\n",
       "      <td>1106.28</td>\n",
       "      <td>1</td>\n",
       "      <td>2</td>\n",
       "      <td>2</td>\n",
       "      <td>122</td>\n",
       "      <td>5</td>\n",
       "    </tr>\n",
       "    <tr>\n",
       "      <th>17</th>\n",
       "      <td>12365.0</td>\n",
       "      <td>291</td>\n",
       "      <td>1</td>\n",
       "      <td>307.94</td>\n",
       "      <td>4</td>\n",
       "      <td>4</td>\n",
       "      <td>3</td>\n",
       "      <td>434</td>\n",
       "      <td>11</td>\n",
       "    </tr>\n",
       "    <tr>\n",
       "      <th>18</th>\n",
       "      <td>12367.0</td>\n",
       "      <td>4</td>\n",
       "      <td>1</td>\n",
       "      <td>138.30</td>\n",
       "      <td>1</td>\n",
       "      <td>4</td>\n",
       "      <td>4</td>\n",
       "      <td>144</td>\n",
       "      <td>9</td>\n",
       "    </tr>\n",
       "    <tr>\n",
       "      <th>19</th>\n",
       "      <td>12370.0</td>\n",
       "      <td>51</td>\n",
       "      <td>4</td>\n",
       "      <td>2755.16</td>\n",
       "      <td>3</td>\n",
       "      <td>2</td>\n",
       "      <td>1</td>\n",
       "      <td>312</td>\n",
       "      <td>6</td>\n",
       "    </tr>\n",
       "  </tbody>\n",
       "</table>\n",
       "</div>"
      ],
      "text/plain": [
       "    CustomerID  Recency  Frequency  Monetary  R  F  M RFMgroup  RFM_score\n",
       "0      12347.0        2          7   3450.03  1  1  1      111          3\n",
       "1      12348.0      248          3     90.20  4  2  4      442         10\n",
       "2      12349.0       18          1   1197.15  2  4  2      224          8\n",
       "3      12350.0      310          1    294.40  4  4  3      434         11\n",
       "4      12352.0       36          7   1232.44  2  1  2      221          5\n",
       "5      12353.0      204          1     29.30  4  4  4      444         12\n",
       "6      12354.0      232          1    780.39  4  4  2      424         10\n",
       "7      12355.0      214          1    219.00  4  4  4      444         12\n",
       "8      12356.0      245          2   1290.44  4  3  1      413          8\n",
       "9      12357.0       33          1   3954.31  2  4  1      214          7\n",
       "10     12358.0        1          2    894.12  1  3  2      123          6\n",
       "11     12359.0       57          4   3817.78  3  2  1      312          6\n",
       "12     12360.0       52          3   1907.86  3  2  1      312          6\n",
       "13     12361.0      287          1    174.90  4  4  4      444         12\n",
       "14     12362.0        3         10   4400.72  1  1  1      111          3\n",
       "15     12363.0      109          2    532.20  3  3  2      323          8\n",
       "16     12364.0        7          3   1106.28  1  2  2      122          5\n",
       "17     12365.0      291          1    307.94  4  4  3      434         11\n",
       "18     12367.0        4          1    138.30  1  4  4      144          9\n",
       "19     12370.0       51          4   2755.16  3  2  1      312          6"
      ]
     },
     "execution_count": 67,
     "metadata": {},
     "output_type": "execute_result"
    }
   ],
   "source": [
    "rfm.head(20)"
   ]
  },
  {
   "cell_type": "code",
   "execution_count": 68,
   "id": "7e01bc1f",
   "metadata": {},
   "outputs": [],
   "source": [
    "loyalty_level=['Diamond','Platinum','Gold','Silver']\n",
    "scores=pd.qcut(rfm.RFM_score,q=4,labels=loyalty_level)"
   ]
  },
  {
   "cell_type": "code",
   "execution_count": 69,
   "id": "d80b6d82",
   "metadata": {},
   "outputs": [],
   "source": [
    "rfm['Loyalty level']=scores.values"
   ]
  },
  {
   "cell_type": "code",
   "execution_count": 70,
   "id": "bfa1a122",
   "metadata": {},
   "outputs": [
    {
     "data": {
      "text/html": [
       "<div>\n",
       "<style scoped>\n",
       "    .dataframe tbody tr th:only-of-type {\n",
       "        vertical-align: middle;\n",
       "    }\n",
       "\n",
       "    .dataframe tbody tr th {\n",
       "        vertical-align: top;\n",
       "    }\n",
       "\n",
       "    .dataframe thead th {\n",
       "        text-align: right;\n",
       "    }\n",
       "</style>\n",
       "<table border=\"1\" class=\"dataframe\">\n",
       "  <thead>\n",
       "    <tr style=\"text-align: right;\">\n",
       "      <th></th>\n",
       "      <th>CustomerID</th>\n",
       "      <th>Recency</th>\n",
       "      <th>Frequency</th>\n",
       "      <th>Monetary</th>\n",
       "      <th>R</th>\n",
       "      <th>F</th>\n",
       "      <th>M</th>\n",
       "      <th>RFMgroup</th>\n",
       "      <th>RFM_score</th>\n",
       "      <th>Loyalty level</th>\n",
       "    </tr>\n",
       "  </thead>\n",
       "  <tbody>\n",
       "    <tr>\n",
       "      <th>0</th>\n",
       "      <td>12347.0</td>\n",
       "      <td>2</td>\n",
       "      <td>7</td>\n",
       "      <td>3450.03</td>\n",
       "      <td>1</td>\n",
       "      <td>1</td>\n",
       "      <td>1</td>\n",
       "      <td>111</td>\n",
       "      <td>3</td>\n",
       "      <td>Diamond</td>\n",
       "    </tr>\n",
       "    <tr>\n",
       "      <th>1</th>\n",
       "      <td>12348.0</td>\n",
       "      <td>248</td>\n",
       "      <td>3</td>\n",
       "      <td>90.20</td>\n",
       "      <td>4</td>\n",
       "      <td>2</td>\n",
       "      <td>4</td>\n",
       "      <td>442</td>\n",
       "      <td>10</td>\n",
       "      <td>Gold</td>\n",
       "    </tr>\n",
       "    <tr>\n",
       "      <th>2</th>\n",
       "      <td>12349.0</td>\n",
       "      <td>18</td>\n",
       "      <td>1</td>\n",
       "      <td>1197.15</td>\n",
       "      <td>2</td>\n",
       "      <td>4</td>\n",
       "      <td>2</td>\n",
       "      <td>224</td>\n",
       "      <td>8</td>\n",
       "      <td>Platinum</td>\n",
       "    </tr>\n",
       "    <tr>\n",
       "      <th>3</th>\n",
       "      <td>12350.0</td>\n",
       "      <td>310</td>\n",
       "      <td>1</td>\n",
       "      <td>294.40</td>\n",
       "      <td>4</td>\n",
       "      <td>4</td>\n",
       "      <td>3</td>\n",
       "      <td>434</td>\n",
       "      <td>11</td>\n",
       "      <td>Silver</td>\n",
       "    </tr>\n",
       "    <tr>\n",
       "      <th>4</th>\n",
       "      <td>12352.0</td>\n",
       "      <td>36</td>\n",
       "      <td>7</td>\n",
       "      <td>1232.44</td>\n",
       "      <td>2</td>\n",
       "      <td>1</td>\n",
       "      <td>2</td>\n",
       "      <td>221</td>\n",
       "      <td>5</td>\n",
       "      <td>Diamond</td>\n",
       "    </tr>\n",
       "  </tbody>\n",
       "</table>\n",
       "</div>"
      ],
      "text/plain": [
       "   CustomerID  Recency  Frequency  Monetary  R  F  M RFMgroup  RFM_score  \\\n",
       "0     12347.0        2          7   3450.03  1  1  1      111          3   \n",
       "1     12348.0      248          3     90.20  4  2  4      442         10   \n",
       "2     12349.0       18          1   1197.15  2  4  2      224          8   \n",
       "3     12350.0      310          1    294.40  4  4  3      434         11   \n",
       "4     12352.0       36          7   1232.44  2  1  2      221          5   \n",
       "\n",
       "  Loyalty level  \n",
       "0       Diamond  \n",
       "1          Gold  \n",
       "2      Platinum  \n",
       "3        Silver  \n",
       "4       Diamond  "
      ]
     },
     "execution_count": 70,
     "metadata": {},
     "output_type": "execute_result"
    }
   ],
   "source": [
    "rfm.head()"
   ]
  },
  {
   "cell_type": "markdown",
   "id": "923f037a",
   "metadata": {},
   "source": [
    "## Analysis"
   ]
  },
  {
   "cell_type": "code",
   "execution_count": 85,
   "id": "98a5704b",
   "metadata": {},
   "outputs": [
    {
     "data": {
      "image/png": "[encoded data removed]",
      "text/plain": [
       "<Figure size 1000x600 with 1 Axes>"
      ]
     },
     "metadata": {},
     "output_type": "display_data"
    }
   ],
   "source": [
    "customer_segments = rfm['Loyalty level'].value_counts().sort_index()\n",
    "\n",
    "segments = customer_segments.index\n",
    "counts = customer_segments.values\n",
    "\n",
    "plt.figure(figsize=(10, 6))\n",
    "plt.bar(segments, counts, color=['#D4AF37', '#E5E4E2', '#FFD700', '#C0C0C0'])\n",
    "\n",
    "plt.title('Number of Customers in Each Segment', fontsize=16)\n",
    "plt.xlabel('Customer Segments', fontsize=14)\n",
    "plt.ylabel('Number of Customers', fontsize=14)\n",
    "\n",
    "plt.show()"
   ]
  },
  {
   "cell_type": "code",
   "execution_count": 79,
   "id": "2fd53369",
   "metadata": {},
   "outputs": [
    {
     "name": "stdout",
     "output_type": "stream",
     "text": [
      "Best Customers:  416\n",
      "Loyal Customers:  380\n",
      "Big Spenders:  1051\n",
      "Almost Lost:  150\n",
      "Lost Customers:  61\n",
      "Lost Cheap Customers:  477\n"
     ]
    }
   ],
   "source": [
    "print(\"Best Customers: \",len(rfm[rfm['RFMgroup']=='444']))\n",
    "print('Loyal Customers: ',len(rfm[rfm['Frequency']==4]))\n",
    "print(\"Big Spenders: \",len(rfm[rfm['M']==4]))\n",
    "print('Almost Lost: ', len(rfm[rfm['RFMgroup']=='244']))\n",
    "print('Lost Customers: ',len(rfm[rfm['RFMgroup']=='144']))\n",
    "print('Lost Cheap Customers: ',len(rfm[rfm['RFMgroup']=='111']))"
   ]
  },
  {
   "cell_type": "markdown",
   "id": "4ac473aa",
   "metadata": {},
   "source": [
    "## Suggestions\n",
    "\n",
    "#### Best Customers\n",
    "•\tReward Loyalty: Exclusive perks and loyalty programs.\n",
    "\n",
    "•\tPersonalized Recommendations: Tailored product suggestions.\n",
    "\n",
    "\n",
    "#### Loyal Customers\n",
    "•\tLoyalty Programs: Points systems or tiered rewards.\n",
    "\n",
    "•\tReferral Programs: Incentives for referrals.\n",
    "\n",
    "•\tCustomer Feedback: Collect opinions and show appreciation.\n",
    "\n",
    "#### Big Spenders \n",
    "\n",
    "•\tExclusive Offers: High-value promotions and bundles.\n",
    "\n",
    "•\tUpsell and Cross-sell: Complementary product suggestions.\n",
    "\n",
    "#### Almost Lost \n",
    "•\tWin-Back Campaigns: Re-engagement emails with special offers.\n",
    "\n",
    "•\tSurveys: Understand reasons for inactivity.\n",
    "\n",
    "•\tLimited-Time Offers: Time-sensitive promotions.\n",
    "\n",
    "#### Lost Customers\n",
    "•\tReactivation Campaigns: Significant discounts to re-engage.\n",
    "\n",
    "•\tFeedback Requests: Understand why they left.\n",
    "\n",
    "•\tExit Offers: Attractive final purchase incentives.\n",
    "\n",
    "#### Lost Cheap Customers\n",
    "\n",
    "•\tCost-Effective Re-Engagement: Low-cost email marketing.\n",
    "\n",
    "•\tIncentivized Offers: Small discounts or free shipping.\n"
   ]
  }
 ],
 "metadata": {
  "kernelspec": {
   "display_name": "Python 3 (ipykernel)",
   "language": "python",
   "name": "python3"
  },
  "language_info": {
   "codemirror_mode": {
    "name": "ipython",
    "version": 3
   },
   "file_extension": ".py",
   "mimetype": "text/x-python",
   "name": "python",
   "nbconvert_exporter": "python",
   "pygments_lexer": "ipython3",
   "version": "3.11.5"
  }
 },
 "nbformat": 4,
 "nbformat_minor": 5
}
